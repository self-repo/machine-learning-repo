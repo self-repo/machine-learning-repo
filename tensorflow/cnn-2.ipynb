{
 "cells": [
  {
   "cell_type": "code",
   "execution_count": 23,
   "metadata": {},
   "outputs": [],
   "source": [
    "import tensorflow as tf\n",
    "from tensorflow.examples.tutorials.mnist import input_data\n",
    "import numpy as np\n",
    "import matplotlib.pyplot as plt"
   ]
  },
  {
   "cell_type": "code",
   "execution_count": 24,
   "metadata": {},
   "outputs": [],
   "source": [
    "_batch_size = 50\n",
    "_lr = 0.001          #learning rate"
   ]
  },
  {
   "cell_type": "code",
   "execution_count": 25,
   "metadata": {},
   "outputs": [
    {
     "name": "stdout",
     "output_type": "stream",
     "text": [
      "Extracting ./mnist/train-images-idx3-ubyte.gz\n",
      "Extracting ./mnist/train-labels-idx1-ubyte.gz\n",
      "Extracting ./mnist/t10k-images-idx3-ubyte.gz\n",
      "Extracting ./mnist/t10k-labels-idx1-ubyte.gz\n"
     ]
    }
   ],
   "source": [
    "_mnist = input_data.read_data_sets('./mnist', one_hot=True)\n",
    "_x = _mnist.test.images[:2000]\n",
    "_y = _mnist.test.labels[:2000]"
   ]
  },
  {
   "cell_type": "code",
   "execution_count": 26,
   "metadata": {},
   "outputs": [
    {
     "name": "stdout",
     "output_type": "stream",
     "text": [
      "(55000, 784)\n",
      "(55000, 10)\n"
     ]
    }
   ],
   "source": [
    "print(_mnist.train.images.shape)\n",
    "print(_mnist.train.labels.shape) "
   ]
  },
  {
   "cell_type": "code",
   "execution_count": 27,
   "metadata": {},
   "outputs": [
    {
     "data": {
      "image/png": "[encoded data removed]",
      "text/plain": [
       "<Figure size 432x288 with 1 Axes>"
      ]
     },
     "metadata": {},
     "output_type": "display_data"
    }
   ],
   "source": [
    "plt.imshow(_mnist.train.images[5].reshape((28, 28)), cmap='gray')\n",
    "plt.title('%i' % np.argmax(_mnist.train.labels[5])); \n",
    "plt.show()"
   ]
  },
  {
   "cell_type": "code",
   "execution_count": 28,
   "metadata": {},
   "outputs": [],
   "source": [
    "_tf_x = tf.placeholder(tf.float32, [None, 28*28]) / 255.\n",
    "_image = tf.reshape(_tf_x, [-1, 28, 28, 1])              # (batch, height, width, channel)\n",
    "_tf_y = tf.placeholder(tf.int32, [None, 10])            # input y"
   ]
  },
  {
   "cell_type": "code",
   "execution_count": 29,
   "metadata": {},
   "outputs": [],
   "source": [
    "# CNN\n",
    "_conv1 = tf.layers.conv2d(   # shape (28, 28, 1)\n",
    "    inputs=_image,\n",
    "    filters=16,\n",
    "    kernel_size=5,\n",
    "    strides=1,\n",
    "    padding='same',\n",
    "    activation=tf.nn.relu\n",
    ")           # -> (28, 28, 16)\n",
    "_pool1 = tf.layers.max_pooling2d(\n",
    "    _conv1,\n",
    "    pool_size=2,\n",
    "    strides=2,\n",
    ")           # -> (14, 14, 16)"
   ]
  },
  {
   "cell_type": "code",
   "execution_count": 30,
   "metadata": {},
   "outputs": [],
   "source": [
    "_conv2 = tf.layers.conv2d(_pool1, 32, 5, 1, 'same', activation=tf.nn.relu)    # -> (14, 14, 32)\n",
    "_pool2 = tf.layers.max_pooling2d(_conv2, 2, 2)    # -> (7, 7, 32)\n",
    "\n",
    "_flat = tf.reshape(_pool2, [-1, 7*7*32])          # -> (7*7*32, )\n",
    "_output = tf.layers.dense(_flat, 10)              # output layer"
   ]
  },
  {
   "cell_type": "code",
   "execution_count": 31,
   "metadata": {},
   "outputs": [],
   "source": [
    "_loss = tf.losses.softmax_cross_entropy(onehot_labels=_tf_y, logits=_output)           # compute cost\n",
    "_train = tf.train.AdamOptimizer(_lr).minimize(_loss)"
   ]
  },
  {
   "cell_type": "code",
   "execution_count": 32,
   "metadata": {},
   "outputs": [],
   "source": [
    "_accuracy = tf.metrics.accuracy(          # return (acc, update_op), and create 2 local variables\n",
    "    labels=tf.argmax(_tf_y, axis=1), predictions=tf.argmax(_output, axis=1),)[1]"
   ]
  },
  {
   "cell_type": "code",
   "execution_count": 33,
   "metadata": {},
   "outputs": [],
   "source": [
    "sess = tf.Session()\n",
    "_init = tf.group(tf.global_variables_initializer(), tf.local_variables_initializer()) # the local var is for accuracy_op\n",
    "sess.run(_init)     # initialize var in graph"
   ]
  },
  {
   "cell_type": "code",
   "execution_count": 34,
   "metadata": {},
   "outputs": [
    {
     "name": "stdout",
     "output_type": "stream",
     "text": [
      "start train........\n",
      "Step: 0 | train loss: 2.2907 | test accuracy: 0.18\n",
      "Step: 100 | train loss: 0.1583 | test accuracy: 0.54\n",
      "Step: 200 | train loss: 0.2656 | test accuracy: 0.67\n",
      "Step: 300 | train loss: 0.1472 | test accuracy: 0.73\n",
      "Step: 400 | train loss: 0.1045 | test accuracy: 0.78\n",
      "Step: 500 | train loss: 0.1520 | test accuracy: 0.81\n",
      "end train........\n"
     ]
    }
   ],
   "source": [
    "print('start train........')\n",
    "for step in range(600):\n",
    "    b_x, b_y = _mnist.train.next_batch(_batch_size)\n",
    "    _, loss_ = sess.run([_train, _loss], {_tf_x: b_x, _tf_y: b_y})\n",
    "    if step % 100 == 0:\n",
    "        accuracy_, flat_representation = sess.run([_accuracy, _flat], {_tf_x: _x, _tf_y: _y})\n",
    "        print('Step:', step, '| train loss: %.4f' % loss_, '| test accuracy: %.2f' % accuracy_)\n",
    "\n",
    "print('end train........')"
   ]
  },
  {
   "cell_type": "code",
   "execution_count": 35,
   "metadata": {},
   "outputs": [
    {
     "name": "stdout",
     "output_type": "stream",
     "text": [
      "[7 2 1 0 4 1 4 9 5 9] prediction number\n",
      "[7 2 1 0 4 1 4 9 5 9] real number\n"
     ]
    }
   ],
   "source": [
    "# print 10 predictions from test data\n",
    "_test_output = sess.run(_output, {_tf_x: _x[:10]})\n",
    "_pred_y = np.argmax(_test_output, 1)\n",
    "print(_pred_y, 'prediction number')\n",
    "print(np.argmax(_y[:10], 1), 'real number')"
   ]
  },
  {
   "cell_type": "code",
   "execution_count": 39,
   "metadata": {},
   "outputs": [
    {
     "data": {
      "image/png": "[encoded data removed]",
      "text/plain": [
       "<Figure size 432x288 with 1 Axes>"
      ]
     },
     "metadata": {},
     "output_type": "display_data"
    },
    {
     "name": "stdout",
     "output_type": "stream",
     "text": [
      "[6] prediction number\n",
      "[6] real number\n"
     ]
    }
   ],
   "source": [
    "plt.imshow(_x[11].reshape((28, 28)), cmap='gray')\n",
    "plt.title('%i' % np.argmax(_y[11])); \n",
    "plt.show()\n",
    "\n",
    "_test_output = sess.run(_output, {_tf_x: _x[11:12]})\n",
    "_pred_y = np.argmax(_test_output, 1)\n",
    "print(_pred_y, 'prediction number')\n",
    "print(np.argmax(_y[11:12], 1), 'real number')"
   ]
  }
 ],
 "metadata": {
  "kernelspec": {
   "display_name": "Python 3",
   "language": "python",
   "name": "python3"
  },
  "language_info": {
   "codemirror_mode": {
    "name": "ipython",
    "version": 3
   },
   "file_extension": ".py",
   "mimetype": "text/x-python",
   "name": "python",
   "nbconvert_exporter": "python",
   "pygments_lexer": "ipython3",
   "version": "3.6.3"
  }
 },
 "nbformat": 4,
 "nbformat_minor": 2
}
