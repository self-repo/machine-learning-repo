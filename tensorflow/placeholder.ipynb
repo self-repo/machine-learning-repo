{
 "cells": [
  {
   "cell_type": "code",
   "execution_count": 5,
   "metadata": {},
   "outputs": [],
   "source": [
    "import tensorflow as tf"
   ]
  },
  {
   "cell_type": "code",
   "execution_count": 6,
   "metadata": {},
   "outputs": [],
   "source": [
    "_x1 = tf.placeholder(dtype=tf.float32, shape=None)\n",
    "_y1 = tf.placeholder(dtype=tf.float32, shape=None)\n",
    "_z1 = _x1 + _y1"
   ]
  },
  {
   "cell_type": "code",
   "execution_count": 7,
   "metadata": {},
   "outputs": [],
   "source": [
    "_x2 = tf.placeholder(dtype=tf.float32, shape=[2, 1])\n",
    "_y2 = tf.placeholder(dtype=tf.float32, shape=[1, 2])\n",
    "_z2 = tf.matmul(_x2, _y2)"
   ]
  },
  {
   "cell_type": "code",
   "execution_count": 8,
   "metadata": {},
   "outputs": [
    {
     "name": "stdout",
     "output_type": "stream",
     "text": [
      "3.0\n",
      "[[6. 6.]\n",
      " [6. 6.]]\n"
     ]
    }
   ],
   "source": [
    "with tf.Session() as sess:\n",
    "    # when run multiple operations\n",
    "    _z1_value, _z2_value = sess.run(\n",
    "        [_z1, _z2],       # run them together\n",
    "        feed_dict={\n",
    "            _x1: 1, _y1: 2,\n",
    "            _x2: [[2], [2]], _y2: [[3, 3]]\n",
    "        })\n",
    "    print(_z1_value)\n",
    "    print(_z2_value)"
   ]
  }
 ],
 "metadata": {
  "kernelspec": {
   "display_name": "Python 3",
   "language": "python",
   "name": "python3"
  },
  "language_info": {
   "codemirror_mode": {
    "name": "ipython",
    "version": 3
   },
   "file_extension": ".py",
   "mimetype": "text/x-python",
   "name": "python",
   "nbconvert_exporter": "python",
   "pygments_lexer": "ipython3",
   "version": "3.6.3"
  }
 },
 "nbformat": 4,
 "nbformat_minor": 2
}
