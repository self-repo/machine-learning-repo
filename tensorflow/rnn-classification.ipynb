{
 "cells": [
  {
   "cell_type": "code",
   "execution_count": 14,
   "metadata": {},
   "outputs": [],
   "source": [
    "import tensorflow as tf\n",
    "from tensorflow.examples.tutorials.mnist import input_data\n",
    "import numpy as np\n",
    "import matplotlib.pyplot as plt"
   ]
  },
  {
   "cell_type": "code",
   "execution_count": 15,
   "metadata": {},
   "outputs": [],
   "source": [
    "_batch_size = 64\n",
    "_time_step = 28    # run time step / image height\n",
    "_input_size = 28   # run input size / image width\n",
    "_lr = 0.01         # learning rate"
   ]
  },
  {
   "cell_type": "code",
   "execution_count": 16,
   "metadata": {},
   "outputs": [
    {
     "name": "stdout",
     "output_type": "stream",
     "text": [
      "Extracting ./mnist/train-images-idx3-ubyte.gz\n",
      "Extracting ./mnist/train-labels-idx1-ubyte.gz\n",
      "Extracting ./mnist/t10k-images-idx3-ubyte.gz\n",
      "Extracting ./mnist/t10k-labels-idx1-ubyte.gz\n"
     ]
    }
   ],
   "source": [
    "# data\n",
    "_mnist = input_data.read_data_sets('./mnist', one_hot=True)              # they has been normalized to range (0,1)\n",
    "_test_x = _mnist.test.images[:2000]\n",
    "_test_y = _mnist.test.labels[:2000]"
   ]
  },
  {
   "cell_type": "code",
   "execution_count": 17,
   "metadata": {},
   "outputs": [
    {
     "name": "stdout",
     "output_type": "stream",
     "text": [
      "(55000, 784)\n",
      "(55000, 10)\n"
     ]
    },
    {
     "data": {
      "image/png": "[encoded data removed]",
      "text/plain": [
       "<Figure size 432x288 with 1 Axes>"
      ]
     },
     "metadata": {},
     "output_type": "display_data"
    }
   ],
   "source": [
    "# plot one example\n",
    "print(_mnist.train.images.shape)     # (55000, 28 * 28)\n",
    "print(_mnist.train.labels.shape)   # (55000, 10)\n",
    "plt.imshow(_mnist.train.images[1].reshape((28, 28)), cmap='gray')\n",
    "plt.title('%i' % np.argmax(_mnist.train.labels[1]))\n",
    "plt.show()"
   ]
  },
  {
   "cell_type": "code",
   "execution_count": 18,
   "metadata": {},
   "outputs": [],
   "source": [
    "# tensorflow placeholders\n",
    "_tf_x = tf.placeholder(tf.float32, [None, _time_step * _input_size])        # shape(batch, 784)\n",
    "_image = tf.reshape(_tf_x, [-1, _time_step, _input_size])                   # (batch, height, width, channel)\n",
    "_tf_y = tf.placeholder(tf.int32, [None, 10])                                # input y"
   ]
  },
  {
   "cell_type": "code",
   "execution_count": 20,
   "metadata": {},
   "outputs": [],
   "source": [
    "# RNN\n",
    "_rnn_cell = tf.contrib.rnn.BasicLSTMCell(num_units=64)\n",
    "with tf.variable_scope('rnn'):\n",
    "    _outputs, (h_c, h_n) = tf.nn.dynamic_rnn(\n",
    "        _rnn_cell,                   # cell you have chosen\n",
    "        _image,                      # input\n",
    "        initial_state=None,          # the initial hidden state\n",
    "        dtype=tf.float32,            # must given if set initial_state = None\n",
    "        time_major=False,            # False: (batch, time step, input); True: (time step, batch, input)\n",
    "    )\n",
    "    _output = tf.layers.dense(_outputs[:, -1, :], 10)              # output based on the last output step"
   ]
  },
  {
   "cell_type": "code",
   "execution_count": 21,
   "metadata": {},
   "outputs": [],
   "source": [
    "_loss = tf.losses.softmax_cross_entropy(onehot_labels=_tf_y, logits=_output)           # compute cost\n",
    "_train = tf.train.AdamOptimizer(_lr).minimize(_loss)"
   ]
  },
  {
   "cell_type": "code",
   "execution_count": 22,
   "metadata": {},
   "outputs": [],
   "source": [
    "_accuracy = tf.metrics.accuracy(          # return (acc, update_op), and create 2 local variables\n",
    "    labels=tf.argmax(_tf_y, axis=1), predictions=tf.argmax(_output, axis=1),)[1]"
   ]
  },
  {
   "cell_type": "code",
   "execution_count": 23,
   "metadata": {},
   "outputs": [],
   "source": [
    "sess = tf.Session()\n",
    "_init = tf.group(tf.global_variables_initializer(), tf.local_variables_initializer()) # the local var is for accuracy_op\n",
    "sess.run(_init)     # initialize var in graph"
   ]
  },
  {
   "cell_type": "code",
   "execution_count": 24,
   "metadata": {},
   "outputs": [
    {
     "name": "stdout",
     "output_type": "stream",
     "text": [
      "train loss: 2.3041 | test accuracy: 0.09\n",
      "train loss: 0.6615 | test accuracy: 0.44\n",
      "train loss: 0.4442 | test accuracy: 0.60\n",
      "train loss: 0.3982 | test accuracy: 0.68\n",
      "train loss: 0.1818 | test accuracy: 0.73\n",
      "train loss: 0.2045 | test accuracy: 0.77\n",
      "train loss: 0.2437 | test accuracy: 0.79\n",
      "train loss: 0.0768 | test accuracy: 0.81\n",
      "train loss: 0.1170 | test accuracy: 0.83\n",
      "train loss: 0.1083 | test accuracy: 0.84\n",
      "train loss: 0.1035 | test accuracy: 0.85\n",
      "train loss: 0.0454 | test accuracy: 0.86\n"
     ]
    }
   ],
   "source": [
    "for step in range(1200):    # training\n",
    "    _b_x, _b_y = _mnist.train.next_batch(_batch_size)\n",
    "    _, loss_ = sess.run([_train, _loss], {_tf_x: _b_x, _tf_y: _b_y})\n",
    "    if step % 100 == 0:      # testing\n",
    "        accuracy_ = sess.run(_accuracy, {_tf_x: _test_x, _tf_y: _test_y})\n",
    "        print('train loss: %.4f' % loss_, '| test accuracy: %.2f' % accuracy_)"
   ]
  },
  {
   "cell_type": "code",
   "execution_count": 26,
   "metadata": {},
   "outputs": [
    {
     "name": "stdout",
     "output_type": "stream",
     "text": [
      "[7 2 1 0 4 1 4 9 6 9] prediction number\n",
      "[7 2 1 0 4 1 4 9 5 9] real number\n"
     ]
    }
   ],
   "source": [
    "# print 10 predictions from test data\n",
    "_test_output = sess.run(_output, {_tf_x: _test_x[:10]})\n",
    "_pred_y = np.argmax(_test_output, 1)\n",
    "print(_pred_y, 'prediction number')\n",
    "print(np.argmax(_test_y[:10], 1), 'real number')"
   ]
  },
  {
   "cell_type": "code",
   "execution_count": 27,
   "metadata": {},
   "outputs": [
    {
     "data": {
      "image/png": "[encoded data removed]",
      "text/plain": [
       "<Figure size 432x288 with 1 Axes>"
      ]
     },
     "metadata": {},
     "output_type": "display_data"
    },
    {
     "name": "stdout",
     "output_type": "stream",
     "text": [
      "[6] prediction number\n",
      "[6] real number\n"
     ]
    }
   ],
   "source": [
    "plt.imshow(_test_x[11].reshape((28, 28)), cmap='gray')\n",
    "plt.title('%i' % np.argmax(_test_y[11])); \n",
    "plt.show()\n",
    "\n",
    "_test_output = sess.run(_output, {_tf_x: _test_x[11:12]})\n",
    "_pred_y = np.argmax(_test_output, 1)\n",
    "print(_pred_y, 'prediction number')\n",
    "print(np.argmax(_test_y[11:12], 1), 'real number')"
   ]
  }
 ],
 "metadata": {
  "kernelspec": {
   "display_name": "Python 3",
   "language": "python",
   "name": "python3"
  },
  "language_info": {
   "codemirror_mode": {
    "name": "ipython",
    "version": 3
   },
   "file_extension": ".py",
   "mimetype": "text/x-python",
   "name": "python",
   "nbconvert_exporter": "python",
   "pygments_lexer": "ipython3",
   "version": "3.6.3"
  }
 },
 "nbformat": 4,
 "nbformat_minor": 2
}
