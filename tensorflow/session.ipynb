{
 "cells": [
  {
   "cell_type": "code",
   "execution_count": 23,
   "metadata": {},
   "outputs": [],
   "source": [
    "import tensorflow as tf"
   ]
  },
  {
   "cell_type": "code",
   "execution_count": 24,
   "metadata": {},
   "outputs": [],
   "source": [
    "_m1 = tf.constant([[1, 1]])\n",
    "_m2 = tf.constant([[2],\n",
    "                  [2]])"
   ]
  },
  {
   "cell_type": "code",
   "execution_count": 25,
   "metadata": {},
   "outputs": [
    {
     "name": "stdout",
     "output_type": "stream",
     "text": [
      "Tensor(\"MatMul_5:0\", shape=(1, 1), dtype=int32)\n"
     ]
    }
   ],
   "source": [
    "_dot = tf.matmul(_m1, _m2)\n",
    "print(_dot) "
   ]
  },
  {
   "cell_type": "code",
   "execution_count": 26,
   "metadata": {},
   "outputs": [
    {
     "name": "stdout",
     "output_type": "stream",
     "text": [
      "[[4]]\n",
      "[[4]]\n"
     ]
    }
   ],
   "source": [
    "# method1 use session\n",
    "sess = tf.Session()\n",
    "_result = sess.run(_dot)\n",
    "print(_result)\n",
    "_sess.close()\n",
    "\n",
    "# method2 use session\n",
    "with tf.Session() as sess:\n",
    "    result_ = sess.run(_dot)\n",
    "    print(result_)"
   ]
  }
 ],
 "metadata": {
  "kernelspec": {
   "display_name": "Python 3",
   "language": "python",
   "name": "python3"
  },
  "language_info": {
   "codemirror_mode": {
    "name": "ipython",
    "version": 3
   },
   "file_extension": ".py",
   "mimetype": "text/x-python",
   "name": "python",
   "nbconvert_exporter": "python",
   "pygments_lexer": "ipython3",
   "version": "3.6.3"
  }
 },
 "nbformat": 4,
 "nbformat_minor": 2
}
