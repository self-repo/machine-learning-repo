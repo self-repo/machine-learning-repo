{
 "cells": [
  {
   "cell_type": "code",
   "execution_count": 1,
   "metadata": {},
   "outputs": [],
   "source": [
    "import tensorflow as tf\n",
    "import numpy as np"
   ]
  },
  {
   "cell_type": "code",
   "execution_count": 2,
   "metadata": {},
   "outputs": [],
   "source": [
    "_x = np.linspace(-1, 1, 100)[:, np.newaxis]\n",
    "_noise = np.random.normal(0, 0.1, size=_x.shape)\n",
    "_y = np.power(_x, 2) + _noise"
   ]
  },
  {
   "cell_type": "code",
   "execution_count": 3,
   "metadata": {},
   "outputs": [],
   "source": [
    "with tf.variable_scope('inputs'):\n",
    "    _tf_x = tf.placeholder(tf.float32, _x.shape, name='x')\n",
    "    _tf_y = tf.placeholder(tf.float32, _y.shape, name='y')"
   ]
  },
  {
   "cell_type": "code",
   "execution_count": 4,
   "metadata": {},
   "outputs": [],
   "source": [
    "with tf.variable_scope('net'):\n",
    "    _layer = tf.layers.dense(_tf_x, 10, tf.nn.relu, name='hidden_layer')\n",
    "    _output = tf.layers.dense(_layer, 1, name='output')\n",
    "    \n",
    "    tf.summary.histogram('out', _layer)\n",
    "    tf.summary.histogram('pred', _output)"
   ]
  },
  {
   "cell_type": "code",
   "execution_count": 7,
   "metadata": {},
   "outputs": [
    {
     "data": {
      "text/plain": [
       "<tf.Tensor 'loss_4:0' shape=() dtype=string>"
      ]
     },
     "execution_count": 7,
     "metadata": {},
     "output_type": "execute_result"
    }
   ],
   "source": [
    "_loss = tf.losses.mean_squared_error(_tf_y, _output, scope='loss')\n",
    "_train = tf.train.GradientDescentOptimizer(learning_rate=0.5).minimize(_loss)\n",
    "tf.summary.scalar('loss',_loss)"
   ]
  },
  {
   "cell_type": "code",
   "execution_count": 8,
   "metadata": {},
   "outputs": [],
   "source": [
    "sess = tf.Session()\n",
    "sess.run(tf.global_variables_initializer())"
   ]
  },
  {
   "cell_type": "code",
   "execution_count": 13,
   "metadata": {},
   "outputs": [],
   "source": [
    "writer = tf.summary.FileWriter('./log', sess.graph)\n",
    "_op = tf.summary.merge_all()\n",
    "\n",
    "for _step in range(100):\n",
    "    _, _result = sess.run([_train, _op],{_tf_x:_x, _tf_y:_y})\n",
    "    writer.add_summary(_result,_step)\n",
    "#  tensorboard --logdir="
   ]
  },
  {
   "cell_type": "code",
   "execution_count": 27,
   "metadata": {},
   "outputs": [],
   "source": [
    "import matplotlib.image as mpimg\n",
    "import matplotlib.pyplot as plt\n",
    "from skimage import transform\n",
    "from PIL import Image"
   ]
  },
  {
   "cell_type": "code",
   "execution_count": 28,
   "metadata": {},
   "outputs": [
    {
     "data": {
      "text/plain": [
       "<matplotlib.image.AxesImage at 0x7fd07c02ccf8>"
      ]
     },
     "execution_count": 28,
     "metadata": {},
     "output_type": "execute_result"
    },
    {
     "data": {
      "image/png": "[encoded data removed]",
      "text/plain": [
       "<Figure size 432x288 with 1 Axes>"
      ]
     },
     "metadata": {},
     "output_type": "display_data"
    }
   ],
   "source": [
    "#_loss_pic = mpimg.imread('loss.bmp')\n",
    "#_loss_pic.shape\n",
    "#plt.imshow(_loss_pic) # 显示图片\n",
    "#plt.axis('off') # 不显示坐标轴\n",
    "#plt.show()\n",
    "_network_pic = mpimg.imread('network.bmp')\n",
    "plt.imshow(_network_pic)"
   ]
  },
  {
   "cell_type": "code",
   "execution_count": null,
   "metadata": {},
   "outputs": [],
   "source": []
  }
 ],
 "metadata": {
  "kernelspec": {
   "display_name": "Python 3",
   "language": "python",
   "name": "python3"
  },
  "language_info": {
   "codemirror_mode": {
    "name": "ipython",
    "version": 3
   },
   "file_extension": ".py",
   "mimetype": "text/x-python",
   "name": "python",
   "nbconvert_exporter": "python",
   "pygments_lexer": "ipython3",
   "version": "3.6.3"
  }
 },
 "nbformat": 4,
 "nbformat_minor": 2
}
